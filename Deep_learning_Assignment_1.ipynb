{
  "cells": [
    {
      "cell_type": "markdown",
      "metadata": {
        "id": "vooh1JOd128B"
      },
      "source": [
        "## Question-1.\n",
        "#### Download the fashion-MNIST dataset and plot 1 sample image for each class as shown in the grid below."
      ]
    },
    {
      "cell_type": "markdown",
      "source": [],
      "metadata": {
        "id": "XLa2N8BQVt3j"
      }
    },
    {
      "cell_type": "markdown",
      "metadata": {
        "id": "aABxtr8F2GFG"
      },
      "source": [
        "* Importing the neccesary libraries."
      ]
    },
    {
      "cell_type": "code",
      "source": [
        "!pip install wandb -qU"
      ],
      "metadata": {
        "id": "KFs78uqqVxfT"
      },
      "execution_count": 27,
      "outputs": []
    },
    {
      "cell_type": "code",
      "source": [
        "# Log in to your W&B account\n",
        "import wandb\n",
        "import random\n",
        "import math"
      ],
      "metadata": {
        "id": "STWmCnKuWjQu"
      },
      "execution_count": 28,
      "outputs": []
    },
    {
      "cell_type": "code",
      "source": [
        "wandb.login()"
      ],
      "metadata": {
        "colab": {
          "base_uri": "https://localhost:8080/"
        },
        "id": "19alhC5DW0NK",
        "outputId": "0adfe55c-1be3-48e0-d5bd-6052202b566d"
      },
      "execution_count": 31,
      "outputs": [
        {
          "output_type": "execute_result",
          "data": {
            "text/plain": [
              "True"
            ]
          },
          "metadata": {},
          "execution_count": 31
        }
      ]
    },
    {
      "cell_type": "code",
      "execution_count": 32,
      "metadata": {
        "id": "xfkAk8NN16aE"
      },
      "outputs": [],
      "source": [
        "import numpy as np\n",
        "import matplotlib.pyplot as plt\n",
        "from keras.datasets import fashion_mnist"
      ]
    },
    {
      "cell_type": "markdown",
      "metadata": {
        "id": "o5d477Bq2lZw"
      },
      "source": [
        "* Loading the dataset"
      ]
    },
    {
      "cell_type": "code",
      "execution_count": 33,
      "metadata": {
        "id": "1xAjSyeY2qPw"
      },
      "outputs": [],
      "source": [
        "(x_train,y_train),(x_test,y_test) = fashion_mnist.load_data()"
      ]
    },
    {
      "cell_type": "code",
      "execution_count": 11,
      "metadata": {
        "colab": {
          "base_uri": "https://localhost:8080/"
        },
        "id": "SSczQMpiABxt",
        "outputId": "62e2f433-a63b-4e69-dd2f-524dc62a0e45"
      },
      "outputs": [
        {
          "output_type": "execute_result",
          "data": {
            "text/plain": [
              "(60000,)"
            ]
          },
          "metadata": {},
          "execution_count": 11
        }
      ],
      "source": [
        "y_train.shape"
      ]
    },
    {
      "cell_type": "markdown",
      "metadata": {
        "id": "mvDLmyyV8BP6"
      },
      "source": [
        "* Class labels of the sample images"
      ]
    },
    {
      "cell_type": "code",
      "execution_count": 12,
      "metadata": {
        "id": "cAmzQwmc7-pu"
      },
      "outputs": [],
      "source": [
        "class_labels=[\"T-shirt/top\",\"Trouser\",\"Pullover\",\"Dress\",\"Coat\",\"Sandal\",\"Shirt\",\"Sneaker\",\"Bag\",\"Ankle boot\"]"
      ]
    },
    {
      "cell_type": "markdown",
      "metadata": {
        "id": "Bo42R7Fl-KGc"
      },
      "source": [
        "* Using a for loop to get one sample per class and storing the images and the labels in two lists"
      ]
    },
    {
      "cell_type": "code",
      "execution_count": 34,
      "metadata": {
        "id": "yjNj-xfg-EgI"
      },
      "outputs": [],
      "source": [
        "sample_img=[]\n",
        "sample_labels=[]\n",
        "for i in range(len(class_labels)):\n",
        "    index = np.argmax(y_train == i)\n",
        "    # index =np.where(y_train==i)[0][0]\n",
        "    sample_img.append(x_train[index])\n",
        "    sample_labels.append(class_labels[i])"
      ]
    },
    {
      "cell_type": "code",
      "execution_count": 14,
      "metadata": {
        "colab": {
          "base_uri": "https://localhost:8080/"
        },
        "id": "bwV6WhQoCYG6",
        "outputId": "cb2d1a90-3904-4b71-b6b9-a6721aaecb84"
      },
      "outputs": [
        {
          "output_type": "stream",
          "name": "stdout",
          "text": [
            "10\n",
            "10\n"
          ]
        }
      ],
      "source": [
        "print(len(sample_labels))\n",
        "print(len(sample_img))"
      ]
    },
    {
      "cell_type": "markdown",
      "metadata": {
        "id": "Clcp3JURD7mr"
      },
      "source": [
        "* Plotting 1 sample image of each class"
      ]
    },
    {
      "cell_type": "code",
      "execution_count": 18,
      "metadata": {
        "colab": {
          "base_uri": "https://localhost:8080/",
          "height": 451
        },
        "id": "-EKoRg1iD6yM",
        "outputId": "5c6fcc5a-342d-4c79-c6d1-2f9da589ff70"
      },
      "outputs": [
        {
          "output_type": "display_data",
          "data": {
            "text/plain": [
              "<Figure size 1000x500 with 10 Axes>"
            ],
            "image/png": "[encoded data removed]"
          },
          "metadata": {}
        }
      ],
      "source": [
        "import wandb\n",
        "# import matplotlib.pyplot as plt\n",
        "\n",
        "# Initialize a W&B run\n",
        "# wandb.init(project=\"fashion-mnist-visualization\", name=\"sample-images\")\n",
        "run=wandb.init(\n",
        "      # Set the project where this run will be logged\n",
        "      project=\"MA24M021_Deep_learning_Assignment_1\",\n",
        "      mode='disabled')\n",
        "# Create the plot\n",
        "fig, axes = plt.subplots(2, 5, figsize=(10, 5))\n",
        "fig.suptitle(\"Fashion-MNIST Sample Images of each class\", fontsize=12)\n",
        "\n",
        "# Plot the images\n",
        "for i, ax in enumerate(axes.flat):\n",
        "    ax.imshow(sample_img[i], cmap='gray')\n",
        "    ax.set_title(sample_labels[i])\n",
        "    ax.axis('off')\n",
        "\n",
        "# Log the plot to W&B\n",
        "run.log({\"Fashion-MNIST Sample Images\": wandb.Image(fig)})\n",
        "\n",
        "# Show the plot (optional)\n",
        "plt.show()\n",
        "\n",
        "# Finish the W&B run\n",
        "run.finish()"
      ]
    },
    {
      "cell_type": "code",
      "source": [
        "import wandb\n",
        "import numpy as np\n",
        "import matplotlib.pyplot as plt\n",
        "from keras.datasets import fashion_mnist\n",
        "from sklearn.model_selection import train_test_split\n",
        "\n",
        "# Initialize W&B\n",
        "wandb.login()\n",
        "wandb.init(project=\"MA24M021_Deep_learning_Assignment_1\", mode=\"disabled\")\n",
        "\n",
        "\n",
        "# Load Fashion MNIST dataset\n",
        "(X_train, y_train), (X_test, y_test) = fashion_mnist.load_data()\n",
        "\n",
        "# Labeling the dataset\n",
        "class_names = ['T-shirt/top', 'Trouser', 'Pullover', 'Dress', 'Coat',\n",
        "               'Sandal', 'Shirt', 'Sneaker', 'Bag', 'Ankle boot']\n",
        "\n",
        "# Select 10 sample images for W&B logging\n",
        "wandb_images = []\n",
        "plt.figure(figsize=(10, 10))\n",
        "for label in range(10):\n",
        "    idx = np.where(y_train == label)[0][0]  # Find first index of each label\n",
        "    sample_image = X_train[idx]\n",
        "\n",
        "    # Log image to W&B\n",
        "    wandb_images.append(wandb.Image(sample_image, caption=class_names[label]))\n",
        "\n",
        "    # Display locally\n",
        "    plt.subplot(5, 5, label + 1)\n",
        "    plt.xticks([])\n",
        "    plt.yticks([])\n",
        "    plt.grid(False)\n",
        "    plt.imshow(sample_image, cmap=plt.cm.binary)\n",
        "    plt.xlabel(class_names[label])\n",
        "\n",
        "# Show images locally\n",
        "plt.show()\n",
        "\n",
        "# Log images to W&B\n",
        "wandb.log({\"fashion_mnist_samples\": wandb_images})\n",
        "\n",
        "# Finish W&B run\n",
        "wandb.finish()"
      ],
      "metadata": {
        "id": "6n06cdn-eeBL",
        "outputId": "bd79a80c-ad16-4f51-90c0-b30d47e37801",
        "colab": {
          "base_uri": "https://localhost:8080/",
          "height": 348
        }
      },
      "execution_count": 20,
      "outputs": [
        {
          "output_type": "display_data",
          "data": {
            "text/plain": [
              "<Figure size 1000x1000 with 10 Axes>"
            ],
            "image/png": "[encoded data removed]"
          },
          "metadata": {}
        }
      ]
    },
    {
      "cell_type": "markdown",
      "metadata": {
        "id": "SmOEtF55Lnqd"
      },
      "source": [
        "## Question-2\n",
        "##### Implement a feedforward neural network which takes images from the fashion-mnist data as input and outputs a probability distribution over the 10 classes."
      ]
    },
    {
      "cell_type": "markdown",
      "metadata": {
        "id": "OWlR5KMisgPW"
      },
      "source": [
        "#### Initialization of weights and biases"
      ]
    },
    {
      "cell_type": "code",
      "execution_count": 8,
      "metadata": {
        "id": "8nnBNehmsgPW"
      },
      "outputs": [],
      "source": [
        "def init_weights(layers):\n",
        "    np.random.seed(0)\n",
        "    weights ={}\n",
        "    biases ={}\n",
        "    for i in range(len(layers)-1):\n",
        "        weights[i] = np.random.randn(layers[i],layers[i+1])\n",
        "        biases[i] = np.zeros((1,layers[i+1]))\n",
        "    return weights, biases"
      ]
    },
    {
      "cell_type": "markdown",
      "metadata": {
        "id": "aMrxTj_mSlxG"
      },
      "source": [
        "1. Sigmoid has been used as an activation.\n",
        "2. Derivative of the sigmoid function\n",
        "3. Softmax function as an output layer activation function layer neuron for computing the probabilities of the 10 classes\n",
        "\n",
        "* These three functions is defined below:"
      ]
    },
    {
      "cell_type": "code",
      "execution_count": 9,
      "metadata": {
        "id": "_7fkdnYNLmvE"
      },
      "outputs": [],
      "source": [
        "def sigmoid(z):\n",
        "  return 1/(1+ np.exp(-z))\n",
        "\n",
        "def Derivative_of_Sigmoid(z):\n",
        "  return sigmoid(z)*(1-sigmoid(z))\n",
        "\n",
        "def softmax(z):\n",
        "  return  np.exp(z)/np.sum(np.exp(z),axis=0)"
      ]
    },
    {
      "cell_type": "markdown",
      "metadata": {
        "id": "MzQNCV5OsgPX"
      },
      "source": [
        "#### Forward propagation:\n",
        "* here \"layers\" is a list. length of the list is the number of layers and the value in each list element have, denotes the number of neurons."
      ]
    },
    {
      "cell_type": "code",
      "execution_count": 10,
      "metadata": {
        "id": "Ree5ENXNsgPX"
      },
      "outputs": [],
      "source": [
        "def forward_NN(X,weights,biases,layers):\n",
        "    activations={0:X}\n",
        "    for i in range(len(layers)-2):\n",
        "        X = sigmoid(np.dot(X,weights[i])+ biases[i])\n",
        "        activations[i+1] = X\n",
        "    output = softmax(np.dot(X,weights[len(layers)-2])+ biases[len(layers)-2])\n",
        "    activations[len(layers)-1] = output\n",
        "    return activations"
      ]
    },
    {
      "cell_type": "markdown",
      "metadata": {
        "id": "rpL5GeIwsgPX"
      },
      "source": [
        "#### Backpropagation(Gradient Descent)"
      ]
    },
    {
      "cell_type": "code",
      "execution_count": 11,
      "metadata": {
        "id": "0lvV1H8esgPY"
      },
      "outputs": [],
      "source": [
        "def backward_NN(X,y,activations,weights,biases,layers,learning_rate):\n",
        "    grads ={}\n",
        "    L =len(layers)-1\n",
        "    m = X.shape[0]\n",
        "    dZ = activations[L] - y\n",
        "    for i in reversed(range(L)):\n",
        "        grads[f'dw{i}'] = np.dot(activations[i].T,dZ)/m\n",
        "        grads[f'db{i}'] = np.sum(dZ,axis=0,keepdims=True)/m\n",
        "        if i >0:\n",
        "            dA= np.dot(dZ,weights[i].T)\n",
        "            dZ = dA*Derivative_of_Sigmoid(activations[i])\n",
        "    for i in range(L):\n",
        "        weights[i] -= learning_rate*grads[f'dw{i}']\n",
        "        biases[i] -= learning_rate*grads[f'db{i}']\n",
        "    return weights,biases"
      ]
    },
    {
      "cell_type": "markdown",
      "metadata": {
        "id": "EG2EsXhYsgPY"
      },
      "source": [
        "#### Training the Neural-Network and Prediction:"
      ]
    },
    {
      "cell_type": "code",
      "execution_count": 12,
      "metadata": {
        "id": "UdRi3OEusgPY"
      },
      "outputs": [],
      "source": [
        "import numpy as np\n",
        "\n",
        "def train_NN_vanilla(X_train, y_train, layers, learning_rate=0.01, epochs=10):\n",
        "    \"\"\"\n",
        "    Train a neural network using Vanilla (Full-Batch) Gradient Descent.\n",
        "\n",
        "    Parameters:\n",
        "        X_train (numpy array): Training data (features).\n",
        "        y_train (numpy array): Training labels (one-hot encoded).\n",
        "        layers (list): List containing number of neurons in each layer.\n",
        "        learning_rate (float): Step size for weight updates.\n",
        "        epochs (int): Number of iterations over the entire dataset.\n",
        "\n",
        "    Returns:\n",
        "        Updated weights and biases after training.\n",
        "    \"\"\"\n",
        "    weights, biases = init_weights(layers)  # Initialize weights and biases\n",
        "\n",
        "    for epoch in range(epochs):\n",
        "        # Forward pass on entire dataset\n",
        "        activations = forward_NN(X_train, weights, biases, layers)\n",
        "\n",
        "        # Backward pass (Compute gradients for full dataset)\n",
        "        weights, biases = backward_NN(X_train, y_train, activations, weights, biases, layers, learning_rate)\n",
        "\n",
        "        # Compute loss & accuracy after weight update\n",
        "        y_pred = predict_NN(X_train, weights, biases, layers)  # Predictions on entire dataset\n",
        "        loss = -np.mean(y_train * np.log(y_pred + 1e-8))  # Cross-entropy loss\n",
        "        acc = np.mean(np.argmax(y_train, axis=1) == np.argmax(y_pred, axis=1))  # Accuracy\n",
        "\n",
        "        print(f\"Epoch {epoch+1}/{epochs} | Loss: {loss:.4f} | Accuracy: {acc:.4f}\")\n",
        "\n",
        "    return weights, biases\n"
      ]
    },
    {
      "cell_type": "code",
      "execution_count": 13,
      "metadata": {
        "id": "L2k8ZEl0sgPY"
      },
      "outputs": [],
      "source": [
        "def predict_NN(X, weights, biases, layers):\n",
        "    return forward_NN(X, weights, biases, layers)[len(layers) - 1]"
      ]
    },
    {
      "cell_type": "markdown",
      "metadata": {
        "id": "AFMClWTSsgPY"
      },
      "source": [
        "#### Evaluation"
      ]
    },
    {
      "cell_type": "code",
      "execution_count": 14,
      "metadata": {
        "id": "J_U79JtusgPZ"
      },
      "outputs": [],
      "source": [
        "def evaluate_nn(X_test, y_test, weights, biases, layers):\n",
        "    y_pred = predict_NN(X_test, weights, biases, layers)\n",
        "    accuracy = np.mean(np.argmax(y_pred, axis=1) == np.argmax(y_test, axis=1))\n",
        "    print(f\"Test Accuracy: {accuracy:.4f}\")"
      ]
    },
    {
      "cell_type": "markdown",
      "metadata": {
        "id": "7KyrppwmsgPZ"
      },
      "source": [
        "#### Preparing the data for training and making prediction:"
      ]
    },
    {
      "cell_type": "code",
      "execution_count": 15,
      "metadata": {
        "colab": {
          "base_uri": "https://localhost:8080/"
        },
        "id": "k7vERzTKsgPZ",
        "outputId": "db9118b6-8c81-4e3f-ce35-5081115e600e"
      },
      "outputs": [
        {
          "output_type": "stream",
          "name": "stdout",
          "text": [
            "Train shape: (54000, 784) (54000, 10)\n",
            "Validation shape: (6000, 784) (6000, 10)\n",
            "Test shape: (10000, 28, 28) (10000, 10)\n"
          ]
        }
      ],
      "source": [
        "from sklearn.model_selection import train_test_split\n",
        "from sklearn.preprocessing import OneHotEncoder\n",
        "from keras.datasets import fashion_mnist\n",
        "\n",
        "# Load Fashion-MNIST dataset from Keras\n",
        "(x_train, y_train), (x_test, y_test) = fashion_mnist.load_data()\n",
        "\n",
        "# Normalize pixel values (scale to [0,1])\n",
        "x_train, x_test = x_train / 255.0, x_test / 255.0\n",
        "\n",
        "# Flatten images (convert 28x28 to 784)\n",
        "X_train = x_train.reshape(x_train.shape[0], -1)\n",
        "X_test = x_test.reshape(x_test.shape[0], -1)\n",
        "\n",
        "# One-hot encode labels\n",
        "# Remove 'sparse=False' or upgrade scikit-learn\n",
        "ohe = OneHotEncoder(sparse_output=False,categories='auto') # For older versions, remove sparse or set categories='auto'\n",
        "#ohe = OneHotEncoder(sparse_output=False)  # For scikit-learn >= 1.2 use sparse_output\n",
        "y_train = ohe.fit_transform(y_train.reshape(-1, 1))\n",
        "y_test = ohe.transform(y_test.reshape(-1, 1))\n",
        "\n",
        "# Split dataset (optional, if you want a validation set)\n",
        "X_train, X_val, y_train, y_val = train_test_split(X_train, y_train, test_size=0.1, random_state=42)\n",
        "\n",
        "# Print dataset shapes\n",
        "print(\"Train shape:\", X_train.shape, y_train.shape)\n",
        "print(\"Validation shape:\", X_val.shape, y_val.shape)\n",
        "print(\"Test shape:\", x_test.shape, y_test.shape)"
      ]
    },
    {
      "cell_type": "markdown",
      "metadata": {
        "id": "m8y9N0RBsgPa"
      },
      "source": [
        "* Define the network layers, training and evalution"
      ]
    },
    {
      "cell_type": "code",
      "execution_count": 17,
      "metadata": {
        "id": "NUvOVd6XsgPa",
        "colab": {
          "base_uri": "https://localhost:8080/"
        },
        "outputId": "ced69f3c-8206-4ba1-dc24-4c6e43c22baf"
      },
      "outputs": [
        {
          "output_type": "stream",
          "name": "stdout",
          "text": [
            "Epoch 1/10 | Loss: 1.0894 | Accuracy: 0.0446\n",
            "Epoch 2/10 | Loss: 1.0894 | Accuracy: 0.0447\n",
            "Epoch 3/10 | Loss: 1.0894 | Accuracy: 0.0447\n",
            "Epoch 4/10 | Loss: 1.0894 | Accuracy: 0.0448\n",
            "Epoch 5/10 | Loss: 1.0894 | Accuracy: 0.0449\n",
            "Epoch 6/10 | Loss: 1.0893 | Accuracy: 0.0449\n",
            "Epoch 7/10 | Loss: 1.0893 | Accuracy: 0.0449\n",
            "Epoch 8/10 | Loss: 1.0893 | Accuracy: 0.0450\n",
            "Epoch 9/10 | Loss: 1.0893 | Accuracy: 0.0450\n",
            "Epoch 10/10 | Loss: 1.0893 | Accuracy: 0.0451\n",
            "Test Accuracy: 0.0428\n"
          ]
        }
      ],
      "source": [
        "layers = [784, 2, 2, 10]\n",
        "weights, biases = train_NN_vanilla(X_train, y_train, layers, epochs=10, learning_rate=0.01)\n",
        "\n",
        "# Evaluate on test data\n",
        "evaluate_nn(X_test, y_test, weights, biases, layers)"
      ]
    },
    {
      "cell_type": "markdown",
      "source": [
        "Q3. Implement the backpropagation algorithm with support for the following optimisation functions\n",
        "\n",
        "* sgd\n",
        "* momentum based gradient descent\n",
        "* nesterov accelerated gradient descent\n",
        "* rmsprop\n",
        "* adam\n",
        "* nadam\n",
        "(12 marks for the backpropagation framework and 2 marks for each of the optimisation algorithms above)\n",
        "\n",
        "We will check the code for implementation and ease of use (e.g., how easy it is to add a new optimisation algorithm such as Eve). Note that the code should be flexible enough to work with different batch sizes."
      ],
      "metadata": {
        "id": "0tPvYh86EaSA"
      }
    },
    {
      "cell_type": "markdown",
      "source": [
        "* stochastic gradient descent"
      ],
      "metadata": {
        "id": "_tLlVX6Scqwn"
      }
    },
    {
      "cell_type": "code",
      "source": [
        "import numpy as np\n",
        "\n",
        "def backward_NN_SGD(X, y, activations, weights, biases, layers, learning_rate):\n",
        "    \"\"\"\n",
        "    Stochastic Gradient Descent (SGD) Backpropagation for Neural Networks.\n",
        "    Updates weights after each training example instead of the entire batch.\n",
        "\n",
        "    Parameters:\n",
        "        X (numpy array): Training data (one example at a time).\n",
        "        y (numpy array): Corresponding one-hot encoded label.\n",
        "        activations (dict): Forward propagation activations.\n",
        "        weights (dict): Neural network weights.\n",
        "        biases (dict): Neural network biases.\n",
        "        layers (list): Layer structure.\n",
        "        learning_rate (float): Step size for weight updates.\n",
        "\n",
        "    Returns:\n",
        "        Updated weights and biases after one sample update.\n",
        "    \"\"\"\n",
        "    grads = {}\n",
        "    L = len(layers) - 1  # Number of layers\n",
        "\n",
        "    # Forward pass already stored activations, compute final layer gradient\n",
        "    dZ = activations[L] - y\n",
        "\n",
        "    # Backpropagation loop (for each layer)\n",
        "    for i in reversed(range(L)):\n",
        "        grads[f'dw{i}'] = np.dot(activations[i].T, dZ)  # No division by m since m=1 in SGD\n",
        "        grads[f'db{i}'] = np.sum(dZ, axis=0, keepdims=True)\n",
        "\n",
        "        if i > 0:\n",
        "            dA = np.dot(dZ, weights[i].T)\n",
        "            dZ = dA * Derivative_of_Sigmoid(activations[i])  # Element-wise multiplication\n",
        "\n",
        "        # Update weights & biases immediately after each sample (SGD property)\n",
        "        weights[i] -= learning_rate * grads[f'dw{i}']\n",
        "        biases[i] -= learning_rate * grads[f'db{i}']\n",
        "\n",
        "    return weights, biases\n",
        "\n"
      ],
      "metadata": {
        "id": "l3KvvdhPFOy2"
      },
      "execution_count": 18,
      "outputs": []
    },
    {
      "cell_type": "markdown",
      "source": [
        "* Training the neural-net with stochastic gradient descent"
      ],
      "metadata": {
        "id": "s5BL2zDzmcnz"
      }
    },
    {
      "cell_type": "code",
      "source": [
        "def train_NN(X_train, y_train, layers, learning_rate=0.01,optimizer=backward_NN_SGD, epochs=10):\n",
        "    weights, biases = init_weights(layers)\n",
        "    # weights, biases = init_weights(layers)\n",
        "    velocity = {i: np.zeros_like(weights[i]) for i in weights}\n",
        "    for i in range(epochs):\n",
        "        activations = forward_NN(X_train,weights,biases,layers)\n",
        "        weights, biases = optimizer(X_train, y_train, activations, weights, biases, layers, learning_rate=learning_rate)\n",
        "        y_pred = predict_NN(X_train, weights, biases, layers)\n",
        "        loss = -np.mean(y_train*np.log(y_pred+1e-8))\n",
        "        acc = np.mean(np.argmax(y_train, axis=1) == np.argmax(y_pred, axis=1))\n",
        "        print(f\"Epoch {i+1}/{epochs} loss: {loss:.2f} accuracy: {acc:.2f}\")\n",
        "    return weights, biases"
      ],
      "metadata": {
        "id": "fpW8MaTQmVxP"
      },
      "execution_count": 19,
      "outputs": []
    },
    {
      "cell_type": "code",
      "source": [
        "layers = [784, 2, 2, 10]\n",
        "weights, biases = train_NN(X_train, y_train, layers, epochs=10, learning_rate=0.01)\n",
        "\n",
        "# Evaluate on test data\n",
        "evaluate_nn(X_test, y_test, weights, biases, layers)"
      ],
      "metadata": {
        "colab": {
          "base_uri": "https://localhost:8080/"
        },
        "id": "yRlkZAR-nR6A",
        "outputId": "88444e5f-a17a-4a67-fb5d-41c5c8432714"
      },
      "execution_count": 20,
      "outputs": [
        {
          "output_type": "stream",
          "name": "stderr",
          "text": [
            "<ipython-input-9-2f8554132f16>:2: RuntimeWarning: overflow encountered in exp\n",
            "  return 1/(1+ np.exp(-z))\n"
          ]
        },
        {
          "output_type": "stream",
          "name": "stdout",
          "text": [
            "Epoch 1/10 loss: 1.09 accuracy: 0.10\n",
            "Epoch 2/10 loss: 1.09 accuracy: 0.10\n",
            "Epoch 3/10 loss: 1.09 accuracy: 0.10\n",
            "Epoch 4/10 loss: 1.09 accuracy: 0.10\n"
          ]
        },
        {
          "output_type": "stream",
          "name": "stderr",
          "text": [
            "<ipython-input-9-2f8554132f16>:8: RuntimeWarning: overflow encountered in exp\n",
            "  return  np.exp(z)/np.sum(np.exp(z),axis=0)\n",
            "<ipython-input-9-2f8554132f16>:8: RuntimeWarning: invalid value encountered in divide\n",
            "  return  np.exp(z)/np.sum(np.exp(z),axis=0)\n"
          ]
        },
        {
          "output_type": "stream",
          "name": "stdout",
          "text": [
            "Epoch 5/10 loss: nan accuracy: 0.10\n",
            "Epoch 6/10 loss: nan accuracy: 0.10\n",
            "Epoch 7/10 loss: nan accuracy: 0.10\n",
            "Epoch 8/10 loss: nan accuracy: 0.10\n",
            "Epoch 9/10 loss: nan accuracy: 0.10\n",
            "Epoch 10/10 loss: nan accuracy: 0.10\n",
            "Test Accuracy: 0.1000\n"
          ]
        }
      ]
    },
    {
      "cell_type": "code",
      "source": [],
      "metadata": {
        "id": "nK0wK4A6nxOr"
      },
      "execution_count": null,
      "outputs": []
    },
    {
      "cell_type": "markdown",
      "source": [
        "* Momentum gradient descent"
      ],
      "metadata": {
        "id": "0h2BwLH7tGLv"
      }
    },
    {
      "cell_type": "code",
      "source": [
        "import numpy as np\n",
        "\n",
        "def backward_NN_MomentumGD(X, y, activations, weights, biases, velocity_w, velocity_b, layers, learning_rate=0.01, beta=0.9):\n",
        "    \"\"\"\n",
        "    Momentum-Based Gradient Descent (Full-Batch) Backpropagation for Neural Networks.\n",
        "    Updates both weights and biases using the momentum update rule.\n",
        "\n",
        "    Parameters:\n",
        "        X (numpy array): Full training dataset (features).\n",
        "        y (numpy array): Corresponding one-hot encoded labels.\n",
        "        activations (dict): Forward propagation activations.\n",
        "        weights (dict): Neural network weights.\n",
        "        biases (dict): Neural network biases.\n",
        "        velocity_w (dict): Velocity terms for weight updates.\n",
        "        velocity_b (dict): Velocity terms for bias updates.\n",
        "        layers (list): List of layer sizes.\n",
        "        learning_rate (float): Step size for weight updates.\n",
        "        beta (float): Momentum coefficient (0 ≤ β < 1).\n",
        "\n",
        "    Returns:\n",
        "        Updated weights, biases, velocity_w, and velocity_b.\n",
        "    \"\"\"\n",
        "    grads = {}\n",
        "    L = len(layers) - 1  # Number of layers\n",
        "    m = X.shape[0]  # Number of training samples\n",
        "\n",
        "    # Compute output layer gradient\n",
        "    dZ = activations[L] - y\n",
        "\n",
        "    # Backpropagation loop (for each layer)\n",
        "    for i in reversed(range(L)):\n",
        "        grads[f'dw{i}'] = np.dot(activations[i].T, dZ) / m  # Gradient for weights\n",
        "        grads[f'db{i}'] = np.sum(dZ, axis=0, keepdims=True) / m  # Gradient for biases\n",
        "\n",
        "        if i > 0:\n",
        "            dA = np.dot(dZ, weights[i].T)\n",
        "            dZ = dA * Derivative_of_Sigmoid(activations[i])  # Element-wise multiplication\n",
        "\n",
        "        # Apply Momentum Update Rule to Weights\n",
        "        velocity_w[i] = beta * velocity_w[i] + grads[f'dw{i}']  # Compute velocity for weights\n",
        "        weights[i] -= learning_rate * velocity_w[i]  # Update weights\n",
        "\n",
        "        # Apply Momentum Update Rule to Biases\n",
        "        velocity_b[i] = beta * velocity_b[i] + grads[f'db{i}']  # Compute velocity for biases\n",
        "        biases[i] -= learning_rate * velocity_b[i]  # Update biases\n",
        "\n",
        "    return weights, biases, velocity_w, velocity_b\n"
      ],
      "metadata": {
        "id": "S11VoLgUtGbT"
      },
      "execution_count": 36,
      "outputs": []
    },
    {
      "cell_type": "code",
      "source": [
        "import numpy as np\n",
        "\n",
        "def train_NN_MomentumGD(X_train, y_train, layers, learning_rate=0.01, beta=0.9, epochs=10):\n",
        "    \"\"\"\n",
        "    Train a neural network using Momentum-Based Gradient Descent (Full-Batch).\n",
        "\n",
        "    Parameters:\n",
        "        X_train (numpy array): Training data (features).\n",
        "        y_train (numpy array): Training labels (one-hot encoded).\n",
        "        layers (list): List containing the number of neurons in each layer.\n",
        "        learning_rate (float): Step size for weight updates.\n",
        "        beta (float): Momentum coefficient (0 ≤ β < 1).\n",
        "        epochs (int): Number of iterations over the entire dataset.\n",
        "\n",
        "    Returns:\n",
        "        Updated weights and biases after training.\n",
        "    \"\"\"\n",
        "    # Initialize weights, biases, and velocity for Momentum GD\n",
        "    weights, biases = init_weights(layers)\n",
        "    velocity_w = {i: np.zeros_like(weights[i]) for i in weights}  # Velocity for weights\n",
        "    velocity_b = {i: np.zeros_like(biases[i]) for i in biases}  # Velocity for biases\n",
        "\n",
        "    for epoch in range(epochs):\n",
        "        # Forward pass on entire dataset\n",
        "        activations = forward_NN(X_train, weights, biases, layers)\n",
        "\n",
        "        # Backward pass using Momentum-Based Gradient Descent\n",
        "        weights, biases, velocity_w, velocity_b = backward_NN_MomentumGD(\n",
        "            X_train, y_train, activations, weights, biases, velocity_w, velocity_b, layers, learning_rate, beta)\n",
        "\n",
        "        # Compute loss & accuracy after weight update\n",
        "        y_pred = predict_NN(X_train, weights, biases, layers)  # Predictions on entire dataset\n",
        "        loss = -np.mean(y_train * np.log(y_pred + 1e-8))  # Cross-entropy loss\n",
        "        acc = np.mean(np.argmax(y_train, axis=1) == np.argmax(y_pred, axis=1))  # Accuracy\n",
        "\n",
        "        print(f\"Epoch {epoch+1}/{epochs} | Loss: {loss:.4f} | Accuracy: {acc:.4f}\")\n",
        "\n",
        "    return weights, biases\n"
      ],
      "metadata": {
        "id": "292Wovp8DKvk"
      },
      "execution_count": 39,
      "outputs": []
    },
    {
      "cell_type": "code",
      "source": [
        "layers = [784, 2, 2, 10]\n",
        "weights, biases = train_NN_MomentumGD(X_train, y_train, layers, epochs=10, learning_rate=0.01)\n",
        "\n",
        "# Evaluate on test data\n",
        "evaluate_nn(X_test, y_test, weights, biases, layers)"
      ],
      "metadata": {
        "colab": {
          "base_uri": "https://localhost:8080/"
        },
        "id": "B94ArqOdDvdk",
        "outputId": "9bede821-b254-45bb-d039-b321032827d3"
      },
      "execution_count": 40,
      "outputs": [
        {
          "output_type": "stream",
          "name": "stdout",
          "text": [
            "Epoch 1/10 | Loss: 1.0894 | Accuracy: 0.0446\n",
            "Epoch 2/10 | Loss: 1.0894 | Accuracy: 0.0447\n",
            "Epoch 3/10 | Loss: 1.0893 | Accuracy: 0.0449\n",
            "Epoch 4/10 | Loss: 1.0893 | Accuracy: 0.0450\n",
            "Epoch 5/10 | Loss: 1.0893 | Accuracy: 0.0452\n",
            "Epoch 6/10 | Loss: 1.0893 | Accuracy: 0.0454\n",
            "Epoch 7/10 | Loss: 1.0892 | Accuracy: 0.0456\n",
            "Epoch 8/10 | Loss: 1.0892 | Accuracy: 0.0459\n",
            "Epoch 9/10 | Loss: 1.0891 | Accuracy: 0.0462\n",
            "Epoch 10/10 | Loss: 1.0891 | Accuracy: 0.0466\n",
            "Test Accuracy: 0.0449\n"
          ]
        }
      ]
    },
    {
      "cell_type": "markdown",
      "source": [
        "* nesterov"
      ],
      "metadata": {
        "id": "BQs9-SLyx5z0"
      }
    },
    {
      "cell_type": "code",
      "source": [
        "import numpy as np\n",
        "\n",
        "def backward_NN_NAG(X, y, activations, weights, biases, velocity_w, velocity_b, layers, learning_rate=0.01, beta=0.9):\n",
        "    \"\"\"\n",
        "    Nesterov Accelerated Gradient (NAG) Backpropagation for Neural Networks.\n",
        "    Computes gradients at the look-ahead position before updating weights and biases.\n",
        "\n",
        "    Parameters:\n",
        "        X (numpy array): Full training dataset (features).\n",
        "        y (numpy array): Corresponding one-hot encoded labels.\n",
        "        activations (dict): Forward propagation activations.\n",
        "        weights (dict): Neural network weights.\n",
        "        biases (dict): Neural network biases.\n",
        "        velocity_w (dict): Velocity terms for weights in momentum.\n",
        "        velocity_b (dict): Velocity terms for biases in momentum.\n",
        "        layers (list): List of layer sizes.\n",
        "        learning_rate (float): Step size for weight updates.\n",
        "        beta (float): Momentum coefficient (0 ≤ β < 1).\n",
        "\n",
        "    Returns:\n",
        "        Updated weights, biases, velocity_w, and velocity_b.\n",
        "    \"\"\"\n",
        "    grads = {}\n",
        "    L = len(layers) - 1  # Number of layers\n",
        "    m = X.shape[0]  # Number of training samples\n",
        "\n",
        "    # Compute look-ahead weights and biases\n",
        "    lookahead_weights = {i: weights[i] - beta * velocity_w[i] for i in weights}\n",
        "    lookahead_biases = {i: biases[i] - beta * velocity_b[i] for i in biases}\n",
        "\n",
        "    # Forward pass with look-ahead weights and biases\n",
        "    lookahead_activations = forward_NN(X, lookahead_weights, lookahead_biases, layers)\n",
        "\n",
        "    # Compute output layer gradient\n",
        "    dZ = lookahead_activations[L] - y\n",
        "\n",
        "    # Backpropagation loop (for each layer)\n",
        "    for i in reversed(range(L)):\n",
        "        grads[f'dw{i}'] = np.dot(lookahead_activations[i].T, dZ) / m  # Compute gradient at look-ahead position\n",
        "        grads[f'db{i}'] = np.sum(dZ, axis=0, keepdims=True) / m\n",
        "\n",
        "        if i > 0:\n",
        "            dA = np.dot(dZ, lookahead_weights[i].T)\n",
        "            dZ = dA * Derivative_of_Sigmoid(lookahead_activations[i])\n",
        "\n",
        "        # Apply Nesterov Accelerated Momentum Update Rule for Weights\n",
        "        velocity_w[i] = beta * velocity_w[i] + grads[f'dw{i}']  # Compute velocity for weights\n",
        "        weights[i] -= learning_rate * velocity_w[i]  # Update weights\n",
        "\n",
        "        # Apply Nesterov Accelerated Momentum Update Rule for Biases\n",
        "        velocity_b[i] = beta * velocity_b[i] + grads[f'db{i}']  # Compute velocity for biases\n",
        "        biases[i] -= learning_rate * velocity_b[i]  # Update biases\n",
        "\n",
        "    return weights, biases, velocity_w, velocity_b\n"
      ],
      "metadata": {
        "id": "yPSrWKVVx9XP"
      },
      "execution_count": 44,
      "outputs": []
    },
    {
      "cell_type": "code",
      "source": [
        "import numpy as np\n",
        "\n",
        "def train_NN_NAG(X_train, y_train, layers, learning_rate=0.01, beta=0.9, epochs=10):\n",
        "    \"\"\"\n",
        "    Train a neural network using Nesterov Accelerated Gradient (NAG) optimization.\n",
        "\n",
        "    Parameters:\n",
        "        X_train (numpy array): Training data (features).\n",
        "        y_train (numpy array): Training labels (one-hot encoded).\n",
        "        layers (list): List containing the number of neurons in each layer.\n",
        "        learning_rate (float): Step size for weight updates.\n",
        "        beta (float): Momentum coefficient (0 ≤ β < 1).\n",
        "        epochs (int): Number of iterations over the entire dataset.\n",
        "\n",
        "    Returns:\n",
        "        Updated weights and biases after training.\n",
        "    \"\"\"\n",
        "    # Initialize weights, biases, and velocities for NAG\n",
        "    weights, biases = init_weights(layers)\n",
        "    velocity_w = {i: np.zeros_like(weights[i]) for i in weights}  # Velocity for weights\n",
        "    velocity_b = {i: np.zeros_like(biases[i]) for i in biases}  # Velocity for biases\n",
        "\n",
        "    for epoch in range(epochs):\n",
        "        # Forward pass on entire dataset\n",
        "        activations = forward_NN(X_train, weights, biases, layers)\n",
        "\n",
        "        # Backward pass using Nesterov Accelerated Gradient Descent\n",
        "        weights, biases, velocity_w, velocity_b = backward_NN_NAG(\n",
        "            X_train, y_train, activations, weights, biases, velocity_w, velocity_b, layers, learning_rate, beta\n",
        "        )\n",
        "\n",
        "        # Compute loss & accuracy after weight update\n",
        "        y_pred = predict_NN(X_train, weights, biases, layers)  # Predictions on entire dataset\n",
        "        loss = -np.mean(y_train * np.log(y_pred + 1e-8))  # Cross-entropy loss\n",
        "        acc = np.mean(np.argmax(y_train, axis=1) == np.argmax(y_pred, axis=1))  # Accuracy\n",
        "\n",
        "        print(f\"Epoch {epoch+1}/{epochs} | Loss: {loss:.4f} | Accuracy: {acc:.4f}\")\n",
        "\n",
        "    return weights, biases\n"
      ],
      "metadata": {
        "id": "xQWkErtnCv-n"
      },
      "execution_count": 47,
      "outputs": []
    },
    {
      "cell_type": "code",
      "source": [
        "layers = [784, 2, 2, 10]\n",
        "weights, biases = train_NN_NAG(X_train, y_train, layers, epochs=10, learning_rate=0.01)\n",
        "\n",
        "# Evaluate on test data\n",
        "evaluate_nn(X_test, y_test, weights, biases, layers)"
      ],
      "metadata": {
        "colab": {
          "base_uri": "https://localhost:8080/"
        },
        "id": "3iMbWY9OCxJT",
        "outputId": "97aac012-4282-4a70-9f08-ef352df2724d"
      },
      "execution_count": 48,
      "outputs": [
        {
          "output_type": "stream",
          "name": "stdout",
          "text": [
            "Epoch 1/10 | Loss: 1.0894 | Accuracy: 0.0446\n",
            "Epoch 2/10 | Loss: 1.0894 | Accuracy: 0.0447\n",
            "Epoch 3/10 | Loss: 1.0893 | Accuracy: 0.0448\n",
            "Epoch 4/10 | Loss: 1.0893 | Accuracy: 0.0449\n",
            "Epoch 5/10 | Loss: 1.0893 | Accuracy: 0.0452\n",
            "Epoch 6/10 | Loss: 1.0893 | Accuracy: 0.0453\n",
            "Epoch 7/10 | Loss: 1.0892 | Accuracy: 0.0455\n",
            "Epoch 8/10 | Loss: 1.0892 | Accuracy: 0.0456\n",
            "Epoch 9/10 | Loss: 1.0891 | Accuracy: 0.0459\n",
            "Epoch 10/10 | Loss: 1.0891 | Accuracy: 0.0462\n",
            "Test Accuracy: 0.0449\n"
          ]
        }
      ]
    },
    {
      "cell_type": "markdown",
      "source": [
        "* RMSprop"
      ],
      "metadata": {
        "id": "7o1csaUy5t1Y"
      }
    },
    {
      "cell_type": "code",
      "source": [
        "import numpy as np\n",
        "\n",
        "def backward_NN_RMSprop(X, y, activations, weights, biases, v, layers, learning_rate=0.01, beta=0.9, epsilon=1e-8):\n",
        "    \"\"\"\n",
        "    RMSprop Backpropagation for Neural Networks.\n",
        "    Uses an exponentially decaying average of past squared gradients to normalize updates.\n",
        "\n",
        "    Parameters:\n",
        "        X (numpy array): Full training dataset (features).\n",
        "        y (numpy array): Corresponding one-hot encoded labels.\n",
        "        activations (dict): Forward propagation activations.\n",
        "        weights (dict): Neural network weights.\n",
        "        biases (dict): Neural network biases.\n",
        "        v (dict): Running squared gradient term for RMSprop.\n",
        "        layers (list): List of layer sizes.\n",
        "        learning_rate (float): Step size for weight updates.\n",
        "        beta (float): Decay rate for moving average (0 ≤ β < 1).\n",
        "        epsilon (float): Small constant to avoid division by zero.\n",
        "\n",
        "    Returns:\n",
        "        Updated weights, biases, and v.\n",
        "    \"\"\"\n",
        "    grads = {}\n",
        "    L = len(layers) - 1  # Number of layers\n",
        "    m = X.shape[0]  # Number of training samples\n",
        "\n",
        "    # Compute output layer gradient\n",
        "    dZ = activations[L] - y\n",
        "\n",
        "    # Backpropagation loop (for each layer)\n",
        "    for i in reversed(range(L)):\n",
        "        grads[f'dw{i}'] = np.dot(activations[i].T, dZ) / m  # Average gradient over all samples\n",
        "        grads[f'db{i}'] = np.sum(dZ, axis=0, keepdims=True) / m\n",
        "\n",
        "        if i > 0:\n",
        "            dA = np.dot(dZ, weights[i].T)\n",
        "            dZ = dA * Derivative_of_Sigmoid(activations[i])\n",
        "\n",
        "        # RMSprop update for weights\n",
        "        v[i] = beta * v[i] + (1 - beta) * (grads[f'dw{i}'] ** 2)  # Update moving average of squared gradients\n",
        "        weights[i] -= learning_rate * grads[f'dw{i}'] / (np.sqrt(v[i]) + epsilon)  # Apply RMSprop update\n",
        "\n",
        "        # RMSprop update for biases\n",
        "        v[f'b{i}'] = beta * v[f'b{i}'] + (1 - beta) * (grads[f'db{i}'] ** 2)\n",
        "        biases[i] -= learning_rate * grads[f'db{i}'] / (np.sqrt(v[f'b{i}']) + epsilon)  # Apply RMSprop update\n",
        "\n",
        "    return weights, biases, v\n"
      ],
      "metadata": {
        "id": "lOfPOp905dvk"
      },
      "execution_count": 23,
      "outputs": []
    },
    {
      "cell_type": "code",
      "source": [
        "import numpy as np\n",
        "\n",
        "def train_NN_RMSprop(X_train, y_train, layers, learning_rate=0.01, optimizer=backward_NN_RMSprop, beta=0.9, epsilon=1e-8, epochs=10):\n",
        "    \"\"\"\n",
        "    Train a neural network using RMSprop optimization.\n",
        "\n",
        "    Parameters:\n",
        "        X_train (numpy array): Training data (features).\n",
        "        y_train (numpy array): Training labels (one-hot encoded).\n",
        "        layers (list): List containing number of neurons in each layer.\n",
        "        learning_rate (float): Step size for weight updates.\n",
        "        optimizer (function): RMSprop optimizer function.\n",
        "        beta (float): Decay rate for moving average (0 ≤ β < 1).\n",
        "        epsilon (float): Small constant to prevent division by zero.\n",
        "        epochs (int): Number of iterations over the entire dataset.\n",
        "\n",
        "    Returns:\n",
        "        Updated weights and biases after training.\n",
        "    \"\"\"\n",
        "    # Initialize weights, biases, and RMSprop squared gradient memory (v)\n",
        "    weights, biases = init_weights(layers)\n",
        "    v = {i: np.zeros_like(weights[i]) for i in weights}  # For weights\n",
        "    v.update({f'b{i}': np.zeros_like(biases[i]) for i in biases})  # For biases\n",
        "\n",
        "    for epoch in range(epochs):\n",
        "        # Forward pass on entire dataset\n",
        "        activations = forward_NN(X_train, weights, biases, layers)\n",
        "\n",
        "        # Backward pass using RMSprop optimizer\n",
        "        weights, biases, v = optimizer(X_train, y_train, activations, weights, biases, v, layers, learning_rate, beta, epsilon)\n",
        "\n",
        "        # Compute loss & accuracy after weight update\n",
        "        y_pred = predict_NN(X_train, weights, biases, layers)  # Predictions on entire dataset\n",
        "        loss = -np.mean(y_train * np.log(y_pred + 1e-8))  # Cross-entropy loss\n",
        "        acc = np.mean(np.argmax(y_train, axis=1) == np.argmax(y_pred, axis=1))  # Accuracy\n",
        "\n",
        "        print(f\"Epoch {epoch+1}/{epochs} | Loss: {loss:.4f} | Accuracy: {acc:.4f}\")\n",
        "\n",
        "    return weights, biases\n"
      ],
      "metadata": {
        "id": "OuvRfKQqBN7m"
      },
      "execution_count": 24,
      "outputs": []
    },
    {
      "cell_type": "code",
      "source": [
        "layers = [784, 2, 2, 10]\n",
        "weights, biases = train_NN_RMSprop(X_train, y_train, layers, epochs=10, learning_rate=0.01)\n",
        "\n",
        "# Evaluate on test data\n",
        "evaluate_nn(X_test, y_test, weights, biases, layers)"
      ],
      "metadata": {
        "colab": {
          "base_uri": "https://localhost:8080/"
        },
        "id": "YoV-74OKBxq1",
        "outputId": "1dd754c4-076d-4a29-d48d-0e598a559113"
      },
      "execution_count": 32,
      "outputs": [
        {
          "output_type": "stream",
          "name": "stdout",
          "text": [
            "Epoch 1/10 | Loss: 1.0872 | Accuracy: 0.1103\n",
            "Epoch 2/10 | Loss: 1.0865 | Accuracy: 0.1636\n",
            "Epoch 3/10 | Loss: 1.0870 | Accuracy: 0.1596\n",
            "Epoch 4/10 | Loss: 1.0877 | Accuracy: 0.1328\n",
            "Epoch 5/10 | Loss: 1.0882 | Accuracy: 0.1211\n",
            "Epoch 6/10 | Loss: 1.0885 | Accuracy: 0.1189\n",
            "Epoch 7/10 | Loss: 1.0889 | Accuracy: 0.1186\n",
            "Epoch 8/10 | Loss: 1.0891 | Accuracy: 0.1171\n",
            "Epoch 9/10 | Loss: 1.0893 | Accuracy: 0.1150\n",
            "Epoch 10/10 | Loss: 1.0895 | Accuracy: 0.1138\n",
            "Test Accuracy: 0.1138\n"
          ]
        }
      ]
    },
    {
      "cell_type": "code",
      "source": [],
      "metadata": {
        "id": "sG_dX7-YCOUR"
      },
      "execution_count": null,
      "outputs": []
    },
    {
      "cell_type": "markdown",
      "source": [],
      "metadata": {
        "id": "1vIZrUP1Ii-B"
      }
    },
    {
      "cell_type": "code",
      "source": [
        "import numpy as np\n",
        "\n",
        "def backward_NN_Adam(X, y, activations, weights, biases, m_w, m_b, v_w, v_b, t, layers, learning_rate=0.001, beta1=0.9, beta2=0.999, epsilon=1e-8):\n",
        "    \"\"\"\n",
        "    Adam Optimization for Backpropagation in Neural Networks.\n",
        "    Uses momentum and adaptive learning rates.\n",
        "\n",
        "    Parameters:\n",
        "        X (numpy array): Full training dataset (features).\n",
        "        y (numpy array): Corresponding one-hot encoded labels.\n",
        "        activations (dict): Forward propagation activations.\n",
        "        weights (dict): Neural network weights.\n",
        "        biases (dict): Neural network biases.\n",
        "        m_w (dict): First moment estimate (momentum) for weights.\n",
        "        m_b (dict): First moment estimate (momentum) for biases.\n",
        "        v_w (dict): Second moment estimate (RMSprop) for weights.\n",
        "        v_b (dict): Second moment estimate (RMSprop) for biases.\n",
        "        t (int): Current time step (epoch counter).\n",
        "        layers (list): List of layer sizes.\n",
        "        learning_rate (float): Step size for weight updates.\n",
        "        beta1 (float): Exponential decay rate for first moment estimate.\n",
        "        beta2 (float): Exponential decay rate for second moment estimate.\n",
        "        epsilon (float): Small constant to prevent division by zero.\n",
        "\n",
        "    Returns:\n",
        "        Updated weights, biases, m_w, m_b, v_w, and v_b.\n",
        "    \"\"\"\n",
        "    grads = {}\n",
        "    L = len(layers) - 1  # Number of layers\n",
        "    m = X.shape[0]  # Number of training samples\n",
        "\n",
        "    # Compute output layer gradient\n",
        "    dZ = activations[L] - y\n",
        "\n",
        "    # Backpropagation loop (for each layer)\n",
        "    for i in reversed(range(L)):\n",
        "        grads[f'dw{i}'] = np.dot(activations[i].T, dZ) / m  # Compute weight gradients\n",
        "        grads[f'db{i}'] = np.sum(dZ, axis=0, keepdims=True) / m  # Compute bias gradients\n",
        "\n",
        "        if i > 0:\n",
        "            dA = np.dot(dZ, weights[i].T)\n",
        "            dZ = dA * Derivative_of_Sigmoid(activations[i])\n",
        "\n",
        "        # Update biased first moment estimate (momentum)\n",
        "        m_w[i] = beta1 * m_w[i] + (1 - beta1) * grads[f'dw{i}']\n",
        "        m_b[i] = beta1 * m_b[i] + (1 - beta1) * grads[f'db{i}']\n",
        "\n",
        "        # Update biased second moment estimate (RMSprop)\n",
        "        v_w[i] = beta2 * v_w[i] + (1 - beta2) * (grads[f'dw{i}'] ** 2)\n",
        "        v_b[i] = beta2 * v_b[i] + (1 - beta2) * (grads[f'db{i}'] ** 2)\n",
        "\n",
        "        # Compute bias-corrected moment estimates\n",
        "        m_w_hat = m_w[i] / (1 - beta1 ** t)\n",
        "        m_b_hat = m_b[i] / (1 - beta1 ** t)\n",
        "        v_w_hat = v_w[i] / (1 - beta2 ** t)\n",
        "        v_b_hat = v_b[i] / (1 - beta2 ** t)\n",
        "\n",
        "        # Apply Adam Update Rule\n",
        "        weights[i] -= learning_rate * m_w_hat / (np.sqrt(v_w_hat) + epsilon)\n",
        "        biases[i] -= learning_rate * m_b_hat / (np.sqrt(v_b_hat) + epsilon)\n",
        "\n",
        "    return weights, biases, m_w, m_b, v_w, v_b\n"
      ],
      "metadata": {
        "id": "3l8SUAvRIjiq"
      },
      "execution_count": 49,
      "outputs": []
    },
    {
      "cell_type": "code",
      "source": [
        "import numpy as np\n",
        "\n",
        "def train_NN_Adam(X_train, y_train, layers, learning_rate=0.001, beta1=0.9, beta2=0.999, epsilon=1e-8, epochs=10):\n",
        "    \"\"\"\n",
        "    Train a neural network using Adam Optimization.\n",
        "\n",
        "    Parameters:\n",
        "        X_train (numpy array): Training data (features).\n",
        "        y_train (numpy array): Training labels (one-hot encoded).\n",
        "        layers (list): List containing the number of neurons in each layer.\n",
        "        learning_rate (float): Step size for weight updates.\n",
        "        beta1 (float): Exponential decay rate for first moment estimate (momentum).\n",
        "        beta2 (float): Exponential decay rate for second moment estimate (RMSprop).\n",
        "        epsilon (float): Small constant to prevent division by zero.\n",
        "        epochs (int): Number of iterations over the entire dataset.\n",
        "\n",
        "    Returns:\n",
        "        Updated weights and biases after training.\n",
        "    \"\"\"\n",
        "    # Initialize weights, biases, and Adam optimization terms\n",
        "    weights, biases = init_weights(layers)\n",
        "    m_w = {i: np.zeros_like(weights[i]) for i in weights}  # First moment estimate (momentum) for weights\n",
        "    m_b = {i: np.zeros_like(biases[i]) for i in biases}  # First moment estimate (momentum) for biases\n",
        "    v_w = {i: np.zeros_like(weights[i]) for i in weights}  # Second moment estimate (RMSprop) for weights\n",
        "    v_b = {i: np.zeros_like(biases[i]) for i in biases}  # Second moment estimate (RMSprop) for biases\n",
        "\n",
        "    for epoch in range(1, epochs + 1):  # Adam requires t (step counter) to start from 1\n",
        "        # Forward pass on entire dataset\n",
        "        activations = forward_NN(X_train, weights, biases, layers)\n",
        "\n",
        "        # Backward pass using Adam optimization\n",
        "        weights, biases, m_w, m_b, v_w, v_b = backward_NN_Adam(\n",
        "            X_train, y_train, activations, weights, biases, m_w, m_b, v_w, v_b, t=epoch,\n",
        "            layers=layers, learning_rate=learning_rate, beta1=beta1, beta2=beta2, epsilon=epsilon\n",
        "        )\n",
        "\n",
        "        # Compute loss & accuracy after weight update\n",
        "        y_pred = predict_NN(X_train, weights, biases, layers)  # Predictions on entire dataset\n",
        "        loss = -np.mean(y_train * np.log(y_pred + 1e-8))  # Cross-entropy loss\n",
        "        acc = np.mean(np.argmax(y_train, axis=1) == np.argmax(y_pred, axis=1))  # Accuracy\n",
        "\n",
        "        print(f\"Epoch {epoch}/{epochs} | Loss: {loss:.4f} | Accuracy: {acc:.4f}\")\n",
        "\n",
        "    return weights, biases\n"
      ],
      "metadata": {
        "id": "9CUb39UNImea"
      },
      "execution_count": 50,
      "outputs": []
    },
    {
      "cell_type": "code",
      "source": [
        "layers = [784, 2, 2, 10]\n",
        "weights, biases = train_NN_Adam(X_train, y_train, layers, epochs=10, learning_rate=0.01)\n",
        "\n",
        "# Evaluate on test data\n",
        "evaluate_nn(X_test, y_test, weights, biases, layers)"
      ],
      "metadata": {
        "colab": {
          "base_uri": "https://localhost:8080/"
        },
        "id": "wTt_yZZhJP_A",
        "outputId": "75f76255-2372-4455-8c77-2a509484adad"
      },
      "execution_count": 52,
      "outputs": [
        {
          "output_type": "stream",
          "name": "stdout",
          "text": [
            "Epoch 1/10 | Loss: 1.0888 | Accuracy: 0.0543\n",
            "Epoch 2/10 | Loss: 1.0881 | Accuracy: 0.0722\n",
            "Epoch 3/10 | Loss: 1.0873 | Accuracy: 0.1076\n",
            "Epoch 4/10 | Loss: 1.0867 | Accuracy: 0.1219\n",
            "Epoch 5/10 | Loss: 1.0867 | Accuracy: 0.1574\n",
            "Epoch 6/10 | Loss: 1.0869 | Accuracy: 0.1557\n",
            "Epoch 7/10 | Loss: 1.0872 | Accuracy: 0.1512\n",
            "Epoch 8/10 | Loss: 1.0875 | Accuracy: 0.1307\n",
            "Epoch 9/10 | Loss: 1.0876 | Accuracy: 0.1222\n",
            "Epoch 10/10 | Loss: 1.0876 | Accuracy: 0.1191\n",
            "Test Accuracy: 0.1210\n"
          ]
        }
      ]
    },
    {
      "cell_type": "code",
      "source": [
        "import numpy as np\n",
        "\n",
        "def backward_NN_NAdam(X, y, activations, weights, biases, m_w, m_b, v_w, v_b, t, layers, learning_rate=0.001, beta1=0.9, beta2=0.999, epsilon=1e-8):\n",
        "    \"\"\"\n",
        "    NAdam (Nesterov-Adam) Optimization for Backpropagation in Neural Networks.\n",
        "    Uses momentum, adaptive learning rates, and Nesterov acceleration.\n",
        "\n",
        "    Parameters:\n",
        "        X (numpy array): Full training dataset (features).\n",
        "        y (numpy array): Corresponding one-hot encoded labels.\n",
        "        activations (dict): Forward propagation activations.\n",
        "        weights (dict): Neural network weights.\n",
        "        biases (dict): Neural network biases.\n",
        "        m_w (dict): First moment estimate (momentum) for weights.\n",
        "        m_b (dict): First moment estimate (momentum) for biases.\n",
        "        v_w (dict): Second moment estimate (RMSprop) for weights.\n",
        "        v_b (dict): Second moment estimate (RMSprop) for biases.\n",
        "        t (int): Current time step (epoch counter).\n",
        "        layers (list): List of layer sizes.\n",
        "        learning_rate (float): Step size for weight updates.\n",
        "        beta1 (float): Exponential decay rate for first moment estimate.\n",
        "        beta2 (float): Exponential decay rate for second moment estimate.\n",
        "        epsilon (float): Small constant to prevent division by zero.\n",
        "\n",
        "    Returns:\n",
        "        Updated weights, biases, m_w, m_b, v_w, and v_b.\n",
        "    \"\"\"\n",
        "    grads = {}\n",
        "    L = len(layers) - 1  # Number of layers\n",
        "    m = X.shape[0]  # Number of training samples\n",
        "\n",
        "    # Compute output layer gradient\n",
        "    dZ = activations[L] - y\n",
        "\n",
        "    # Backpropagation loop (for each layer)\n",
        "    for i in reversed(range(L)):\n",
        "        grads[f'dw{i}'] = np.dot(activations[i].T, dZ) / m  # Compute weight gradients\n",
        "        grads[f'db{i}'] = np.sum(dZ, axis=0, keepdims=True) / m  # Compute bias gradients\n",
        "\n",
        "        if i > 0:\n",
        "            dA = np.dot(dZ, weights[i].T)\n",
        "            dZ = dA * Derivative_of_Sigmoid(activations[i])\n",
        "\n",
        "        # Update biased first moment estimate (momentum)\n",
        "        m_w[i] = beta1 * m_w[i] + (1 - beta1) * grads[f'dw{i}']\n",
        "        m_b[i] = beta1 * m_b[i] + (1 - beta1) * grads[f'db{i}']\n",
        "\n",
        "        # Update biased second moment estimate (RMSprop)\n",
        "        v_w[i] = beta2 * v_w[i] + (1 - beta2) * (grads[f'dw{i}'] ** 2)\n",
        "        v_b[i] = beta2 * v_b[i] + (1 - beta2) * (grads[f'db{i}'] ** 2)\n",
        "\n",
        "        # Compute bias-corrected moment estimates\n",
        "        m_w_hat = m_w[i] / (1 - beta1 ** (t + 1))\n",
        "        m_b_hat = m_b[i] / (1 - beta1 ** (t + 1))\n",
        "        v_w_hat = v_w[i] / (1 - beta2 ** (t + 1))\n",
        "        v_b_hat = v_b[i] / (1 - beta2 ** (t + 1))\n",
        "\n",
        "        # Apply Nesterov Momentum in Gradient Calculation\n",
        "        m_w_nesterov = beta1 * m_w_hat + (1 - beta1) / (1 - beta1 ** (t + 1)) * grads[f'dw{i}']\n",
        "        m_b_nesterov = beta1 * m_b_hat + (1 - beta1) / (1 - beta1 ** (t + 1)) * grads[f'db{i}']\n",
        "\n",
        "        # Apply NAdam Update Rule\n",
        "        weights[i] -= learning_rate * m_w_nesterov / (np.sqrt(v_w_hat) + epsilon)\n",
        "        biases[i] -= learning_rate * m_b_nesterov / (np.sqrt(v_b_hat) + epsilon)\n",
        "\n",
        "    return weights, biases, m_w, m_b, v_w, v_b\n"
      ],
      "metadata": {
        "id": "Sz94y-F_JZb-"
      },
      "execution_count": 53,
      "outputs": []
    },
    {
      "cell_type": "code",
      "source": [
        "import numpy as np\n",
        "\n",
        "def train_NN_NAdam(X_train, y_train, layers, learning_rate=0.001, beta1=0.9, beta2=0.999, epsilon=1e-8, epochs=10):\n",
        "    \"\"\"\n",
        "    Train a neural network using NAdam (Nesterov-Adam) Optimization.\n",
        "\n",
        "    Parameters:\n",
        "        X_train (numpy array): Training data (features).\n",
        "        y_train (numpy array): Training labels (one-hot encoded).\n",
        "        layers (list): List containing the number of neurons in each layer.\n",
        "        learning_rate (float): Step size for weight updates.\n",
        "        beta1 (float): Exponential decay rate for first moment estimate (momentum).\n",
        "        beta2 (float): Exponential decay rate for second moment estimate (RMSprop).\n",
        "        epsilon (float): Small constant to prevent division by zero.\n",
        "        epochs (int): Number of iterations over the entire dataset.\n",
        "\n",
        "    Returns:\n",
        "        Updated weights and biases after training.\n",
        "    \"\"\"\n",
        "    # Initialize weights, biases, and NAdam optimization terms\n",
        "    weights, biases = init_weights(layers)\n",
        "    m_w = {i: np.zeros_like(weights[i]) for i in weights}  # First moment estimate (momentum) for weights\n",
        "    m_b = {i: np.zeros_like(biases[i]) for i in biases}  # First moment estimate (momentum) for biases\n",
        "    v_w = {i: np.zeros_like(weights[i]) for i in weights}  # Second moment estimate (RMSprop) for weights\n",
        "    v_b = {i: np.zeros_like(biases[i]) for i in biases}  # Second moment estimate (RMSprop) for biases\n",
        "\n",
        "    for epoch in range(1, epochs + 1):  # NAdam requires t (step counter) to start from 1\n",
        "        # Forward pass on entire dataset\n",
        "        activations = forward_NN(X_train, weights, biases, layers)\n",
        "\n",
        "        # Backward pass using NAdam optimization\n",
        "        weights, biases, m_w, m_b, v_w, v_b = backward_NN_NAdam(\n",
        "            X_train, y_train, activations, weights, biases, m_w, m_b, v_w, v_b, t=epoch,\n",
        "            layers=layers, learning_rate=learning_rate, beta1=beta1, beta2=beta2, epsilon=epsilon\n",
        "        )\n",
        "\n",
        "        # Compute loss & accuracy after weight update\n",
        "        y_pred = predict_NN(X_train, weights, biases, layers)  # Predictions on entire dataset\n",
        "        loss = -np.mean(y_train * np.log(y_pred + 1e-8))  # Cross-entropy loss\n",
        "        acc = np.mean(np.argmax(y_train, axis=1) == np.argmax(y_pred, axis=1))  # Accuracy\n",
        "\n",
        "        print(f\"Epoch {epoch}/{epochs} | Loss: {loss:.4f} | Accuracy: {acc:.4f}\")\n",
        "\n",
        "    return weights, biases\n"
      ],
      "metadata": {
        "id": "ERomRBMXKnQ1"
      },
      "execution_count": 54,
      "outputs": []
    },
    {
      "cell_type": "code",
      "source": [
        "layers = [784, 2, 2, 10]\n",
        "weights, biases = train_NN_Adam(X_train, y_train, layers, epochs=10, learning_rate=0.01)\n",
        "\n",
        "# Evaluate on test data\n",
        "evaluate_nn(X_test, y_test, weights, biases, layers)"
      ],
      "metadata": {
        "colab": {
          "base_uri": "https://localhost:8080/"
        },
        "id": "iWr-2-HJLsib",
        "outputId": "64f624f2-c904-41a6-a725-7cd69c308ea5"
      },
      "execution_count": 55,
      "outputs": [
        {
          "output_type": "stream",
          "name": "stdout",
          "text": [
            "Epoch 1/10 | Loss: 1.0888 | Accuracy: 0.0543\n",
            "Epoch 2/10 | Loss: 1.0881 | Accuracy: 0.0722\n",
            "Epoch 3/10 | Loss: 1.0873 | Accuracy: 0.1076\n",
            "Epoch 4/10 | Loss: 1.0867 | Accuracy: 0.1219\n",
            "Epoch 5/10 | Loss: 1.0867 | Accuracy: 0.1574\n",
            "Epoch 6/10 | Loss: 1.0869 | Accuracy: 0.1557\n",
            "Epoch 7/10 | Loss: 1.0872 | Accuracy: 0.1512\n",
            "Epoch 8/10 | Loss: 1.0875 | Accuracy: 0.1307\n",
            "Epoch 9/10 | Loss: 1.0876 | Accuracy: 0.1222\n",
            "Epoch 10/10 | Loss: 1.0876 | Accuracy: 0.1191\n",
            "Test Accuracy: 0.1210\n"
          ]
        }
      ]
    },
    {
      "cell_type": "code",
      "source": [],
      "metadata": {
        "id": "0TI27PI7LtJU"
      },
      "execution_count": null,
      "outputs": []
    }
  ],
  "metadata": {
    "colab": {
      "provenance": [],
      "gpuType": "T4"
    },
    "kernelspec": {
      "display_name": "Python 3",
      "name": "python3"
    },
    "language_info": {
      "codemirror_mode": {
        "name": "ipython",
        "version": 3
      },
      "file_extension": ".py",
      "mimetype": "text/x-python",
      "name": "python",
      "nbconvert_exporter": "python",
      "pygments_lexer": "ipython3",
      "version": "3.12.6"
    },
    "accelerator": "GPU"
  },
  "nbformat": 4,
  "nbformat_minor": 0
}