{
  "cells": [
    {
      "cell_type": "markdown",
      "metadata": {
        "id": "vooh1JOd128B"
      },
      "source": [
        "## Question-1.\n",
        "#### Download the fashion-MNIST dataset and plot 1 sample image for each class as shown in the grid below."
      ]
    },
    {
      "cell_type": "markdown",
      "metadata": {
        "id": "aABxtr8F2GFG"
      },
      "source": [
        "* Importing the neccesary libraries."
      ]
    },
    {
      "cell_type": "code",
      "execution_count": 2,
      "metadata": {
        "id": "xfkAk8NN16aE"
      },
      "outputs": [],
      "source": [
        "import numpy as np\n",
        "import matplotlib.pyplot as plt\n",
        "from keras.datasets import fashion_mnist"
      ]
    },
    {
      "cell_type": "markdown",
      "metadata": {
        "id": "o5d477Bq2lZw"
      },
      "source": [
        "* Loading the dataset"
      ]
    },
    {
      "cell_type": "code",
      "execution_count": null,
      "metadata": {
        "id": "1xAjSyeY2qPw",
        "colab": {
          "base_uri": "https://localhost:8080/"
        },
        "outputId": "1543040e-4b05-4ab8-a232-ecaf56575770"
      },
      "outputs": [
        {
          "output_type": "stream",
          "name": "stdout",
          "text": [
            "Downloading data from https://storage.googleapis.com/tensorflow/tf-keras-datasets/train-labels-idx1-ubyte.gz\n",
            "\u001b[1m29515/29515\u001b[0m \u001b[32m━━━━━━━━━━━━━━━━━━━━\u001b[0m\u001b[37m\u001b[0m \u001b[1m0s\u001b[0m 0us/step\n",
            "Downloading data from https://storage.googleapis.com/tensorflow/tf-keras-datasets/train-images-idx3-ubyte.gz\n",
            "\u001b[1m26421880/26421880\u001b[0m \u001b[32m━━━━━━━━━━━━━━━━━━━━\u001b[0m\u001b[37m\u001b[0m \u001b[1m2s\u001b[0m 0us/step\n",
            "Downloading data from https://storage.googleapis.com/tensorflow/tf-keras-datasets/t10k-labels-idx1-ubyte.gz\n",
            "\u001b[1m5148/5148\u001b[0m \u001b[32m━━━━━━━━━━━━━━━━━━━━\u001b[0m\u001b[37m\u001b[0m \u001b[1m0s\u001b[0m 0us/step\n",
            "Downloading data from https://storage.googleapis.com/tensorflow/tf-keras-datasets/t10k-images-idx3-ubyte.gz\n",
            "\u001b[1m4422102/4422102\u001b[0m \u001b[32m━━━━━━━━━━━━━━━━━━━━\u001b[0m\u001b[37m\u001b[0m \u001b[1m1s\u001b[0m 0us/step\n"
          ]
        }
      ],
      "source": [
        "(x_train,y_train),(x_test,y_test) = fashion_mnist.load_data()"
      ]
    },
    {
      "cell_type": "code",
      "execution_count": null,
      "metadata": {
        "colab": {
          "base_uri": "https://localhost:8080/"
        },
        "id": "SSczQMpiABxt",
        "outputId": "6fa80d28-75d1-4673-c72d-c9c565ca521c"
      },
      "outputs": [
        {
          "output_type": "execute_result",
          "data": {
            "text/plain": [
              "(60000,)"
            ]
          },
          "metadata": {},
          "execution_count": 3
        }
      ],
      "source": [
        "y_train.shape"
      ]
    },
    {
      "cell_type": "markdown",
      "metadata": {
        "id": "mvDLmyyV8BP6"
      },
      "source": [
        "* Class labels of the sample images"
      ]
    },
    {
      "cell_type": "code",
      "execution_count": null,
      "metadata": {
        "id": "cAmzQwmc7-pu"
      },
      "outputs": [],
      "source": [
        "class_labels=[\"T-shirt/top\",\"Trouser\",\"Pullover\",\"Dress\",\"Coat\",\"Sandal\",\"Shirt\",\"Sneaker\",\"Bag\",\"Ankle boot\"]"
      ]
    },
    {
      "cell_type": "markdown",
      "metadata": {
        "id": "Bo42R7Fl-KGc"
      },
      "source": [
        "* Using a for loop to get one sample per class and storing the images and the labels in two lists"
      ]
    },
    {
      "cell_type": "code",
      "execution_count": null,
      "metadata": {
        "id": "yjNj-xfg-EgI"
      },
      "outputs": [],
      "source": [
        "sample_img=[]\n",
        "sample_labels=[]\n",
        "for i in range(len(class_labels)):\n",
        "    index = np.argmax(y_train == i)\n",
        "    # index =np.where(y_train==i)[0][0]\n",
        "    sample_img.append(x_train[index])\n",
        "    sample_labels.append(class_labels[i])"
      ]
    },
    {
      "cell_type": "code",
      "execution_count": null,
      "metadata": {
        "colab": {
          "base_uri": "https://localhost:8080/"
        },
        "id": "bwV6WhQoCYG6",
        "outputId": "8e0b9a29-4809-455d-8cae-1bf355f9e04f"
      },
      "outputs": [
        {
          "output_type": "stream",
          "name": "stdout",
          "text": [
            "10\n",
            "10\n"
          ]
        }
      ],
      "source": [
        "print(len(sample_labels))\n",
        "print(len(sample_img))"
      ]
    },
    {
      "cell_type": "markdown",
      "metadata": {
        "id": "Clcp3JURD7mr"
      },
      "source": [
        "* Plotting 1 sample image of each class"
      ]
    },
    {
      "cell_type": "code",
      "execution_count": null,
      "metadata": {
        "colab": {
          "base_uri": "https://localhost:8080/",
          "height": 451
        },
        "id": "-EKoRg1iD6yM",
        "outputId": "cf7d8b72-61bf-4810-dc7e-09cb2f350fb5"
      },
      "outputs": [
        {
          "output_type": "display_data",
          "data": {
            "text/plain": [
              "<Figure size 1000x500 with 10 Axes>"
            ],
            "image/png": "[encoded data removed]"
          },
          "metadata": {}
        }
      ],
      "source": [
        "fig, axes = plt.subplots(2,5,figsize=(10,5))\n",
        "fig.suptitle(\"Fashion-MNIST Sample Images of each class\", fontsize=12)\n",
        "\n",
        "for i, ax in enumerate(axes.flat):\n",
        "    ax.imshow(sample_img[i], cmap='gray')\n",
        "    ax.set_title(sample_labels[i])\n",
        "    ax.axis('off')\n",
        "\n",
        "plt.show()"
      ]
    },
    {
      "cell_type": "markdown",
      "metadata": {
        "id": "SmOEtF55Lnqd"
      },
      "source": [
        "## Question-2\n",
        "##### Implement a feedforward neural network which takes images from the fashion-mnist data as input and outputs a probability distribution over the 10 classes."
      ]
    },
    {
      "cell_type": "markdown",
      "metadata": {
        "id": "OWlR5KMisgPW"
      },
      "source": [
        "#### Initialization of weights and biases"
      ]
    },
    {
      "cell_type": "code",
      "execution_count": 1,
      "metadata": {
        "id": "8nnBNehmsgPW"
      },
      "outputs": [],
      "source": [
        "def init_weights(layers):\n",
        "    np.random.seed(0)\n",
        "    weights ={}\n",
        "    biases ={}\n",
        "    for i in range(len(layers)-1):\n",
        "        weights[i] = np.random.randn(layers[i],layers[i+1])\n",
        "        biases[i] = np.zeros((1,layers[i+1]))\n",
        "    return weights, biases"
      ]
    },
    {
      "cell_type": "markdown",
      "metadata": {
        "id": "aMrxTj_mSlxG"
      },
      "source": [
        "1. Sigmoid has been used as an activation.\n",
        "2. Derivative of the sigmoid function\n",
        "3. Softmax function as an output layer activation function layer neuron for computing the probabilities of the 10 classes\n",
        "\n",
        "* These three functions is defined below:"
      ]
    },
    {
      "cell_type": "code",
      "execution_count": 3,
      "metadata": {
        "id": "_7fkdnYNLmvE"
      },
      "outputs": [],
      "source": [
        "def sigmoid(z):\n",
        "  return 1/(1+ np.exp(-z))\n",
        "\n",
        "def Derivative_of_Sigmoid(z):\n",
        "  return sigmoid(z)*(1-sigmoid(z))\n",
        "\n",
        "def softmax(z):\n",
        "  return  np.exp(z)/np.sum(np.exp(z),axis=0)"
      ]
    },
    {
      "cell_type": "markdown",
      "metadata": {
        "id": "MzQNCV5OsgPX"
      },
      "source": [
        "#### Forward propagation:\n",
        "* here \"layers\" is a list. length of the list is the number of layers and the value in each list element have, denotes the number of neurons."
      ]
    },
    {
      "cell_type": "code",
      "execution_count": 4,
      "metadata": {
        "id": "Ree5ENXNsgPX"
      },
      "outputs": [],
      "source": [
        "def forward_NN(X,weights,biases,layers):\n",
        "    activations={0:X}\n",
        "    for i in range(len(layers)-2):\n",
        "        X = sigmoid(np.dot(X,weights[i])+ biases[i])\n",
        "        activations[i+1] = X\n",
        "    output = softmax(np.dot(X,weights[len(layers)-2])+ biases[len(layers)-2])\n",
        "    activations[len(layers)-1] = output\n",
        "    return activations"
      ]
    },
    {
      "cell_type": "markdown",
      "metadata": {
        "id": "rpL5GeIwsgPX"
      },
      "source": [
        "#### Backpropagation(Gradient Descent)"
      ]
    },
    {
      "cell_type": "code",
      "execution_count": 5,
      "metadata": {
        "id": "0lvV1H8esgPY"
      },
      "outputs": [],
      "source": [
        "def backward_NN(X,y,activations,weights,biases,layers,learning_rate):\n",
        "    grads ={}\n",
        "    L =len(layers)-1\n",
        "    m = X.shape[0]\n",
        "    dZ = activations[L] - y\n",
        "    for i in reversed(range(L)):\n",
        "        grads[f'dw{i}'] = np.dot(activations[i].T,dZ)/m\n",
        "        grads[f'db{i}'] = np.sum(dZ,axis=0,keepdims=True)/m\n",
        "        if i >0:\n",
        "            dA= np.dot(dZ,weights[i].T)\n",
        "            dZ = dA*Derivative_of_Sigmoid(activations[i])\n",
        "    for i in range(L):\n",
        "        weights[i] -= learning_rate*grads[f'dw{i}']\n",
        "        biases[i] -= learning_rate*grads[f'db{i}']\n",
        "    return weights,biases"
      ]
    },
    {
      "cell_type": "markdown",
      "metadata": {
        "id": "EG2EsXhYsgPY"
      },
      "source": [
        "#### Training the Neural-Network and Prediction:"
      ]
    },
    {
      "cell_type": "code",
      "execution_count": 18,
      "metadata": {
        "id": "UdRi3OEusgPY"
      },
      "outputs": [],
      "source": [
        "def train_NN(X_train, y_train, layers, learning_rate=0.01, epochs=10, batch_size=32):\n",
        "    weights, biases = init_weights(layers)\n",
        "    for i in range(epochs):\n",
        "        for j in range(0, X_train.shape[0], batch_size):\n",
        "            X_batch = X_train[j:j+batch_size]\n",
        "            y_batch = y_train[j:j+batch_size]\n",
        "            activations = forward_NN(X_batch,weights,biases,layers)\n",
        "            weights, biases = backward_NN(X_batch, y_batch, activations, weights, biases, layers, learning_rate=learning_rate)\n",
        "        y_pred = predict_NN(X_train, weights, biases, layers)\n",
        "        loss = -np.mean(y_train*np.log(y_pred+1e-8))\n",
        "        acc = np.mean(np.argmax(y_train, axis=1) == np.argmax(y_pred, axis=1))\n",
        "        print(f\"Epoch {i+1}/{epochs} loss: {loss:.2f} accuracy: {acc:.2f}\")\n",
        "    return weights, biases"
      ]
    },
    {
      "cell_type": "code",
      "execution_count": 6,
      "metadata": {
        "id": "L2k8ZEl0sgPY"
      },
      "outputs": [],
      "source": [
        "def predict_NN(X, weights, biases, layers):\n",
        "    return forward_NN(X, weights, biases, layers)[len(layers) - 1]"
      ]
    },
    {
      "cell_type": "markdown",
      "metadata": {
        "id": "AFMClWTSsgPY"
      },
      "source": [
        "#### Evaluation"
      ]
    },
    {
      "cell_type": "code",
      "execution_count": 8,
      "metadata": {
        "id": "J_U79JtusgPZ"
      },
      "outputs": [],
      "source": [
        "def evaluate_nn(X_test, y_test, weights, biases, layers):\n",
        "    y_pred = predict_NN(X_test, weights, biases, layers)\n",
        "    accuracy = np.mean(np.argmax(y_pred, axis=1) == np.argmax(y_test, axis=1))\n",
        "    print(f\"Test Accuracy: {accuracy:.4f}\")"
      ]
    },
    {
      "cell_type": "markdown",
      "metadata": {
        "id": "7KyrppwmsgPZ"
      },
      "source": [
        "#### Preparing the data for training and making prediction:"
      ]
    },
    {
      "cell_type": "code",
      "execution_count": 16,
      "metadata": {
        "colab": {
          "base_uri": "https://localhost:8080/"
        },
        "id": "k7vERzTKsgPZ",
        "outputId": "15572e56-7986-4396-ee51-745ce5da91d8"
      },
      "outputs": [
        {
          "output_type": "stream",
          "name": "stdout",
          "text": [
            "Train shape: (54000, 784) (54000, 10)\n",
            "Validation shape: (6000, 784) (6000, 10)\n",
            "Test shape: (10000, 28, 28) (10000, 10)\n"
          ]
        }
      ],
      "source": [
        "from sklearn.model_selection import train_test_split\n",
        "from sklearn.preprocessing import OneHotEncoder\n",
        "# from keras.datasets import fashion_mnist\n",
        "\n",
        "# Load Fashion-MNIST dataset from Keras\n",
        "(x_train, y_train), (x_test, y_test) = fashion_mnist.load_data()\n",
        "\n",
        "# Normalize pixel values (scale to [0,1])\n",
        "x_train, x_test = x_train / 255.0, x_test / 255.0\n",
        "\n",
        "# Flatten images (convert 28x28 to 784)\n",
        "X_train = x_train.reshape(x_train.shape[0], -1)\n",
        "X_test = x_test.reshape(x_test.shape[0], -1)\n",
        "\n",
        "# One-hot encode labels\n",
        "# Remove 'sparse=False' or upgrade scikit-learn\n",
        "ohe = OneHotEncoder(sparse_output=False,categories='auto') # For older versions, remove sparse or set categories='auto'\n",
        "#ohe = OneHotEncoder(sparse_output=False)  # For scikit-learn >= 1.2 use sparse_output\n",
        "y_train = ohe.fit_transform(y_train.reshape(-1, 1))\n",
        "y_test = ohe.transform(y_test.reshape(-1, 1))\n",
        "\n",
        "# Split dataset (optional, if you want a validation set)\n",
        "X_train, X_val, y_train, y_val = train_test_split(X_train, y_train, test_size=0.1, random_state=42)\n",
        "\n",
        "# Print dataset shapes\n",
        "print(\"Train shape:\", X_train.shape, y_train.shape)\n",
        "print(\"Validation shape:\", X_val.shape, y_val.shape)\n",
        "print(\"Test shape:\", x_test.shape, y_test.shape)"
      ]
    },
    {
      "cell_type": "markdown",
      "metadata": {
        "id": "m8y9N0RBsgPa"
      },
      "source": [
        "* Define a network and Train"
      ]
    },
    {
      "cell_type": "code",
      "execution_count": 19,
      "metadata": {
        "id": "NUvOVd6XsgPa",
        "outputId": "d4334cd9-1ec6-4fea-e4aa-8ff44a882edb",
        "colab": {
          "base_uri": "https://localhost:8080/"
        }
      },
      "outputs": [
        {
          "output_type": "stream",
          "name": "stdout",
          "text": [
            "Epoch 1/10 loss: 1.09 accuracy: 0.17\n",
            "Epoch 2/10 loss: 1.09 accuracy: 0.10\n",
            "Epoch 3/10 loss: 1.09 accuracy: 0.10\n",
            "Epoch 4/10 loss: 1.09 accuracy: 0.10\n"
          ]
        },
        {
          "output_type": "stream",
          "name": "stderr",
          "text": [
            "<ipython-input-3-2f8554132f16>:2: RuntimeWarning: overflow encountered in exp\n",
            "  return 1/(1+ np.exp(-z))\n"
          ]
        },
        {
          "output_type": "stream",
          "name": "stdout",
          "text": [
            "Epoch 5/10 loss: 1.09 accuracy: 0.10\n",
            "Epoch 6/10 loss: 1.09 accuracy: 0.10\n",
            "Epoch 7/10 loss: 1.09 accuracy: 0.10\n",
            "Epoch 8/10 loss: 1.09 accuracy: 0.10\n",
            "Epoch 9/10 loss: 1.09 accuracy: 0.10\n",
            "Epoch 10/10 loss: 1.09 accuracy: 0.10\n",
            "Test Accuracy: 0.1000\n"
          ]
        }
      ],
      "source": [
        "layers = [784, 2, 2, 10]\n",
        "weights, biases = train_NN(X_train, y_train, layers, epochs=10, batch_size=64, learning_rate=0.01)\n",
        "\n",
        "# Evaluate on test data\n",
        "evaluate_nn(X_test, y_test, weights, biases, layers)"
      ]
    },
    {
      "cell_type": "code",
      "source": [],
      "metadata": {
        "id": "1-INCR9Du7En"
      },
      "execution_count": null,
      "outputs": []
    }
  ],
  "metadata": {
    "colab": {
      "provenance": [],
      "gpuType": "T4"
    },
    "kernelspec": {
      "display_name": "Python 3",
      "name": "python3"
    },
    "language_info": {
      "codemirror_mode": {
        "name": "ipython",
        "version": 3
      },
      "file_extension": ".py",
      "mimetype": "text/x-python",
      "name": "python",
      "nbconvert_exporter": "python",
      "pygments_lexer": "ipython3",
      "version": "3.12.6"
    },
    "accelerator": "GPU"
  },
  "nbformat": 4,
  "nbformat_minor": 0
}